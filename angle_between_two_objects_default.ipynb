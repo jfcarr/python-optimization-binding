{
 "cells": [
  {
   "cell_type": "markdown",
   "metadata": {},
   "source": [
    "# Imports"
   ]
  },
  {
   "cell_type": "code",
   "execution_count": 19,
   "metadata": {},
   "outputs": [],
   "source": [
    "import math\n",
    "import random"
   ]
  },
  {
   "cell_type": "markdown",
   "metadata": {},
   "source": [
    "# Support Methods"
   ]
  },
  {
   "cell_type": "markdown",
   "metadata": {},
   "source": [
    "## Convert Civil Time (hours,minutes,seconds) to Decimal Hours"
   ]
  },
  {
   "cell_type": "code",
   "execution_count": 20,
   "metadata": {},
   "outputs": [],
   "source": [
    "def hms_dh(hours,minutes,seconds):\n",
    "\tA = abs(seconds) / 60\n",
    "\tB = (abs(minutes) + A) / 60\n",
    "\tC = abs(hours) + B\n",
    "\t\n",
    "\treturn -C if ((hours < 0) or (minutes < 0) or (seconds < 0)) else C"
   ]
  },
  {
   "cell_type": "markdown",
   "metadata": {},
   "source": [
    "## Convert Degree-Hours to Decimal Degrees"
   ]
  },
  {
   "cell_type": "code",
   "execution_count": 21,
   "metadata": {},
   "outputs": [],
   "source": [
    "def dh_dd(degree_hours):\n",
    "\treturn degree_hours * 15"
   ]
  },
  {
   "cell_type": "markdown",
   "metadata": {},
   "source": [
    "## Convert Degrees Minutes Seconds to Decimal Degrees"
   ]
  },
  {
   "cell_type": "code",
   "execution_count": 22,
   "metadata": {},
   "outputs": [],
   "source": [
    "def dms_dd(degrees,minutes,seconds):\n",
    "\tA = abs(seconds) / 60\n",
    "\tB = (abs(minutes) + A) / 60\n",
    "\tC = abs(degrees) + B\n",
    "\n",
    "\treturn -C if degrees < 0 or minutes < 0 or seconds < 0 else C"
   ]
  },
  {
   "cell_type": "markdown",
   "metadata": {},
   "source": [
    "## Convert W value to Degrees"
   ]
  },
  {
   "cell_type": "code",
   "execution_count": 23,
   "metadata": {},
   "outputs": [],
   "source": [
    "def degrees(W):\n",
    "\treturn W * 57.29577951"
   ]
  },
  {
   "cell_type": "markdown",
   "metadata": {},
   "source": [
    "## Extract degrees, minutes, and seconds from decimal degrees"
   ]
  },
  {
   "cell_type": "code",
   "execution_count": 24,
   "metadata": {},
   "outputs": [],
   "source": [
    "def dd_deg(decimal_degrees):\n",
    "\t\"\"\" Return Degrees part of Decimal Degrees \"\"\"\n",
    "\tA = abs(decimal_degrees)\n",
    "\tB = A * 3600\n",
    "\tC = round(B - 60 * math.floor(B / 60),2)\n",
    "\tD = 0 if C == 60 else C\n",
    "\tE = B = 60 if C == 60 else B\n",
    "\n",
    "\treturn -math.floor(E/3600) if decimal_degrees < 0 else math.floor(E/3600)\n",
    "\n",
    "def dd_min(decimal_degrees):\n",
    "\t\"\"\" Return Minutes part of Decimal Degrees \"\"\"\n",
    "\tA = abs(decimal_degrees)\n",
    "\tB = A * 3600\n",
    "\tC = round(B - 60 * math.floor(B / 60),2)\n",
    "\tD = 0 if C == 60 else C\n",
    "\tE = B + 60 if C == 60 else B\n",
    "\n",
    "\treturn math.floor(E/60) % 60\n",
    "\n",
    "def dd_sec(decimal_degrees):\n",
    "\t\"\"\" Return Seconds part of Decimal Degrees \"\"\"\n",
    "\tA = abs(decimal_degrees)\n",
    "\tB = A * 3600\n",
    "\tC = round(B - 60 * math.floor(B / 60),2)\n",
    "\tD = 0 if C == 60 else C\n",
    "\n",
    "\treturn D"
   ]
  },
  {
   "cell_type": "markdown",
   "metadata": {},
   "source": [
    "# Calculate the angle between two celestial objects"
   ]
  },
  {
   "cell_type": "code",
   "execution_count": 25,
   "metadata": {},
   "outputs": [],
   "source": [
    "def angle_between_two_objects(ra_long_1_hour_deg,ra_long_1_min,ra_long_1_sec,dec_lat_1_deg,dec_lat_1_min,dec_lat_1_sec,ra_long_2_hour_deg,ra_long_2_min,ra_long_2_sec,dec_lat_2_deg,dec_lat_2_min,dec_lat_2_sec,hour_or_degree):\n",
    "\tra_long_1_decimal = hms_dh(ra_long_1_hour_deg,ra_long_1_min,ra_long_1_sec) if hour_or_degree == \"H\" else dms_dd(ra_long_1_hour_deg,ra_long_1_min,ra_long_1_sec)\n",
    "\tra_long_1_deg = dh_dd(ra_long_1_decimal) if hour_or_degree == \"H\" else ra_long_1_decimal\n",
    "\tra_long_1_rad = math.radians(ra_long_1_deg)\n",
    "\tdec_lat_1_deg1 = dms_dd(dec_lat_1_deg,dec_lat_1_min,dec_lat_1_sec)\n",
    "\tdec_lat_1_rad = math.radians(dec_lat_1_deg1)\n",
    "\n",
    "\tra_long_2_decimal = hms_dh(ra_long_2_hour_deg,ra_long_2_min,ra_long_2_sec) if hour_or_degree == \"H\" else dms_dd(ra_long_2_hour_deg,ra_long_2_min,ra_long_2_sec)\n",
    "\tra_long_2_deg = dh_dd(ra_long_2_decimal) if hour_or_degree == \"H\" else ra_long_2_decimal\n",
    "\tra_long_2_rad = math.radians(ra_long_2_deg)\n",
    "\tdec_lat_2_deg1 = dms_dd(dec_lat_2_deg,dec_lat_2_min,dec_lat_2_sec)\n",
    "\tdec_lat_2_rad = math.radians(dec_lat_2_deg1)\n",
    "\n",
    "\tcos_d = math.sin(dec_lat_1_rad) * math.sin(dec_lat_2_rad) + math.cos(dec_lat_1_rad) * math.cos(dec_lat_2_rad) * math.cos(ra_long_1_rad - ra_long_2_rad)\n",
    "\td_rad = math.acos(cos_d)\n",
    "\td_deg = degrees(d_rad)\n",
    "\n",
    "\tangle_deg = dd_deg(d_deg)\n",
    "\tangle_min = dd_min(d_deg)\n",
    "\tangle_sec = dd_sec(d_deg)\n",
    "\n",
    "\treturn angle_deg,angle_min,angle_sec\n"
   ]
  },
  {
   "cell_type": "markdown",
   "metadata": {},
   "source": [
    "# Testing"
   ]
  },
  {
   "cell_type": "markdown",
   "metadata": {},
   "source": [
    "## Test Run"
   ]
  },
  {
   "cell_type": "code",
   "execution_count": 26,
   "metadata": {},
   "outputs": [
    {
     "name": "stdout",
     "output_type": "stream",
     "text": [
      "Result is 23 degrees, 40 minutes, 25.86 seconds.\n"
     ]
    }
   ],
   "source": [
    "# First object is at right ascension 5 hours 13 minutes 31.7 seconds, declination -8 degrees 13 minutes 30 seconds\n",
    "\n",
    "# Second object is at right ascension 6 hours 44 minutes 13.4 seconds, declination -16 degrees 41 minutes 11 seconds\n",
    "\n",
    "angle_deg,angle_min,angle_sec = angle_between_two_objects(5, 13, 31.7, -8, 13, 30, 6, 44, 13.4, -16, 41, 11, \"H\")\n",
    "\n",
    "# Result (should be 23 degrees, 40 minutes, 25.86 seconds)\n",
    "print(f\"Result is {angle_deg} degrees, {angle_min} minutes, {angle_sec} seconds.\")"
   ]
  },
  {
   "cell_type": "markdown",
   "metadata": {},
   "source": [
    "## Multiple Test Runs (timed)"
   ]
  },
  {
   "cell_type": "code",
   "execution_count": 27,
   "metadata": {},
   "outputs": [
    {
     "name": "stdout",
     "output_type": "stream",
     "text": [
      "CPU times: user 6.41 ms, sys: 235 µs, total: 6.64 ms\n",
      "Wall time: 6.62 ms\n"
     ]
    }
   ],
   "source": [
    "def exec_tests():\n",
    "\tfor test_iter in range(1,1000):\n",
    "\t\tright_ascension_hour = random.randrange(1,12)\n",
    "\n",
    "\t\tangle_deg,angle_min,angle_sec = angle_between_two_objects(right_ascension_hour, 13, 31.7, -8, 13, 30, 6, 44, 13.4, -16, 41, 11, \"H\")\n",
    "\n",
    "%time exec_tests()"
   ]
  }
 ],
 "metadata": {
  "interpreter": {
   "hash": "916dbcbb3f70747c44a77c7bcd40155683ae19c65e1c03b4aa3499c5328201f1"
  },
  "kernelspec": {
   "display_name": "Python 3.9.7 64-bit",
   "language": "python",
   "name": "python3"
  },
  "language_info": {
   "codemirror_mode": {
    "name": "ipython",
    "version": 3
   },
   "file_extension": ".py",
   "mimetype": "text/x-python",
   "name": "python",
   "nbconvert_exporter": "python",
   "pygments_lexer": "ipython3",
   "version": "3.9.7"
  },
  "orig_nbformat": 4
 },
 "nbformat": 4,
 "nbformat_minor": 2
}
